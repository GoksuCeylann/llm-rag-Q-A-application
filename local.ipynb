{
 "cells": [
  {
   "cell_type": "markdown",
   "metadata": {},
   "source": [
    "# Q&A RAG application using open-source models"
   ]
  },
  {
   "cell_type": "code",
   "execution_count": 32,
   "metadata": {},
   "outputs": [],
   "source": [
    "import os\n",
    "from dotenv import load_dotenv\n",
    "\n",
    "load_dotenv()\n",
    "\n",
    "OPENAI_API_KEY = os.getenv(\"OPENAI_API_KEY\")\n",
    "MODEL = \"gpt-3.5-turbo\"\n",
    "#MODEL = \"mixtral:8x7b\"\n",
    "#MODEL = \"llama3:8b\"\n"
   ]
  },
  {
   "cell_type": "code",
   "execution_count": 33,
   "metadata": {},
   "outputs": [],
   "source": [
    "from langchain_community.llms import Ollama\n",
    "from langchain_openai.chat_models import ChatOpenAI\n",
    "from langchain_community.embeddings import OllamaEmbeddings\n",
    "from langchain_openai.embeddings import OpenAIEmbeddings\n",
    "\n",
    "if MODEL.startswith(\"gpt\"):\n",
    "    model = ChatOpenAI(openai_api_key=OPENAI_API_KEY, model=MODEL)\n",
    "    embeddings = OpenAIEmbeddings()\n",
    "else:\n",
    "    model = Ollama(model=MODEL)\n",
    "    embeddings = OllamaEmbeddings(model=MODEL)"
   ]
  },
  {
   "cell_type": "code",
   "execution_count": 34,
   "metadata": {},
   "outputs": [],
   "source": [
    "from langchain_core.output_parsers import StrOutputParser\n",
    "\n",
    "parser = StrOutputParser()\n",
    "\n",
    "chain = model | parser "
   ]
  },
  {
   "cell_type": "code",
   "execution_count": 35,
   "metadata": {},
   "outputs": [
    {
     "data": {
      "text/plain": [
       "'\\nAnswer the question based on the context below. If you can\\'t \\nanswer the question, reply \"I don\\'t know\". Please be precise and do not give any false information \\nthat does not occur in the context. You are only expected to answer from the context.\\n\\nContext: Here is some context\\n\\nQuestion: Here is a question\\n'"
      ]
     },
     "execution_count": 35,
     "metadata": {},
     "output_type": "execute_result"
    }
   ],
   "source": [
    "from langchain.prompts import PromptTemplate\n",
    "\n",
    "template = \"\"\"\n",
    "Answer the question based on the context below. If you can't \n",
    "answer the question, reply \"I don't know\". Please be precise and do not give any false information \n",
    "that does not occur in the context. You are only expected to answer from the context.\n",
    "\n",
    "Context: {context}\n",
    "\n",
    "Question: {question}\n",
    "\"\"\"\n",
    "\n",
    "prompt = PromptTemplate.from_template(template)\n",
    "prompt.format(context=\"Here is some context\", question=\"Here is a question\")"
   ]
  },
  {
   "cell_type": "markdown",
   "metadata": {},
   "source": [
    "ÖRNEK 1"
   ]
  },
  {
   "cell_type": "code",
   "execution_count": 36,
   "metadata": {},
   "outputs": [
    {
     "data": {
      "text/plain": [
       "[Document(page_content='UNIFREE DUTY FREE İŞLETMECİLİĞİ A.Ş.  \\n \\n \\nÖZEL NİTELİKLİ KİŞİSEL VERİLERİN KORUNMASI POLİTİKASI  \\n \\n \\n \\n \\nKVK_07', metadata={'source': 'KVK_07 KVK  Özel Nitelikli KVKK Politikası.pdf', 'page': 0}),\n",
       " Document(page_content='ÖZEL NİTELİKLİ KİŞİSEL \\nVERİLERİN KORUNMASI \\nPOLİTİKASI    Doküman No  KVK_07  \\nYayın Tarihi  01.03.2023  \\nRevizyon No   \\nRevizyon Tarihi No   \\n \\n2 \\n \\n \\nİÇİNDEKİLER  \\n \\n1. GİRİŞ  ................................ ................................ ................................ .................  3 \\n2. ÖZEL NİTELİKLİ KİŞİSEL VERİLERİ NASIL İŞLİYORUZ?  ................................ .............  3 \\n3. ÖZEL NİTELİKLİ KİŞİSEL VERİLERİ İŞLEME İLKELERİMİZ  ................................ ..........  4 \\n4. ÖZEL NİTELİKLİ KİŞİSEL VERİLERİN AKTARILMASI  ................................ ..................  5 \\n5. ÖZEL NİTELİKLİ KİŞİSEL VERİLERİNİZİ HANGİ HUKUKİ SEBEPLERLE İŞLİYORUZ?  ....... 6 \\n6. ÖZEL NİTELİKLİ VERİLERİN İŞLENMESİNDE ALINAN TEKNİK VE İDARİ TEDBİRLER  ...... 6 \\n7. ÖZEL NİTELİKLİ KİŞİSEL VERİLERİ NE KADAR SÜREYLE SAKLARIZ?  ...........................  8 \\nEk.1  – Kısaltmalar  ................................ ................................ ................................ .. 9', metadata={'source': 'KVK_07 KVK  Özel Nitelikli KVKK Politikası.pdf', 'page': 1}),\n",
       " Document(page_content='ÖZEL NİTELİKLİ KİŞİSEL \\nVERİLERİN KORUNMASI \\nPOLİTİKASI    Doküman No  KVK_07  \\nYayın Tarihi  01.03.2023  \\nRevizyon No   \\nRevizyon Tarihi No   \\n \\n3 \\n \\n1. GİRİŞ   \\n \\nUnifree  olarak kişisel verilerinizin gizliliği ve güvenliğine önem veriyoruz. Bu kapsamda, iş \\nilişkilerimizi yürütürken müşterilerimiz, tedarikçilerimiz, iş ortaklarımız, bunların çalışanları ve \\nyetkilileri ve diğer tüm üçüncü kişilere ait elde ettiğimiz özel nite likli kişisel verileri nasıl \\nişlediğimiz, hangi amaçlarla kullandığımız ve bu bilgileri nasıl koruduğumuz hakkında işbu \\nPolitika hazırlanmıştır .  \\n \\nİşbu bildirimde kullanılan tüm kavram ve ifadeler, 6698 sayılı Kişisel Verilerin Korunması \\nKanunu (“ KVKK ”) ve sair mevzuatta kendilerine atfe dilen anlamı ifade edecektir. Kişisel veri \\nterimi, özel nitelikli kişisel veriyi de kapsayacak şekilde kullanılmaktadır.   \\n \\nBildirimdeki “biz” veya “Şirket” veya “ Unifree ” ifadeleri,  Unifree  faaliyet gösteren İstanbul  \\nTicaret Sicili nezdinde 130499 numarası ile kayıtlı Unifree ’yi ifade edecek anlamda \\nkullanılmaktadır. Politika’da yer alan terimlerin ve kısaltmaların ifade ettiği anlamlar EK – \\nKısaltmalar bölümünde yer almaktadır.   \\n \\nŞirketimiz  tarafından, KVKK ile “özel nitelikli” olarak belirlenen kişisel verilerin işlenmesinde, \\nKVKK’da öngörülen düzenlemelere uygun davranılmaktadır. KVKK m. 6, hukuka aykırı olarak \\nişlendiğinde kişilerin mağduriyetine veya ayrımcılığa sebep olma riski taşıyan bir takım kişisel \\nverileri “özel nitelikli” olarak belirlemiş olup bu verilerin işlenmesinde dikkat ve hassasiyet \\ngösterilmesi gerekmektedir. Bunlar; ırk, etnik köken, siyasi düşünce, felsefi inanç, din, \\nmezhep veya diğer inançlar, kılık ve kıyafet, dernek , vakıf ya da sendika üyeliği, sağlık, cinsel \\nhayat, ceza mahkûmiyeti ve güvenlik tedbirleriyle ilgili veriler ile biyometrik ve genetik \\nverilerdir.  \\n2. ÖZEL NİTELİKLİ KİŞİSEL VERİLERİ NASIL İŞLİYORUZ?  \\n \\nŞirketimiz tarafından  özel nitelikli kişisel veriler, KVKK’ya uygun olarak gerekli önlemlerin \\nalınması kaydıyla aşağıdaki durumlarda işlenmektedir:', metadata={'source': 'KVK_07 KVK  Özel Nitelikli KVKK Politikası.pdf', 'page': 2}),\n",
       " Document(page_content='ÖZEL NİTELİKLİ KİŞİSEL \\nVERİLERİN KORUNMASI \\nPOLİTİKASI    Doküman No  KVK_07  \\nYayın Tarihi  01.03.2023  \\nRevizyon No   \\nRevizyon Tarihi No   \\n \\n4 \\n \\n• Veri sahibinin sağlığı ve cinsel hayatı  dışındaki özel nitelikli kişisel veriler, kanunlarda \\nöngörülen  istisnai  hallerde açık rıza aranmaksızın veya kişisel veri sahibinin açık rızası var \\nise buna dayalı olarak,  \\n• Veri sahibinin sağlığına ve cinsel hayatına ilişkin özel nitelikli kişisel veriler ise ancak kişisel \\nveri sahibinin açık rızası ile işlenmektedir.  \\nHangi nedene dayanırsa dayansın, işleme süreçlerinde daima genel veri işleme ilkeleri dikkate \\nalınır ve buna  ilkelere uygunluk sağlanır . Bu ilkeler aşağıda açıklanmaktadır:  \\n3. ÖZEL NİTELİKLİ KİŞİSEL VERİLERİ İŞLEME İLKELERİMİZ  \\n \\nŞirketimiz tarafından işlenen tüm kişisel veriler, KVKK ve ilgili mevzuat uyarınca \\nişlenmektedir. KVKK 4. maddesi uyarınca kişisel verilerinizi işlerken dikkat ettiğimiz temel ilke \\nve prensipler aşağıda açıklanmıştır:  \\n \\n• Hukuka ve Dürüstlük Kuralına Uygun İ şleme : Şirketimiz; özel nitelikli kişisel verilerin \\nişlenmesinde hukuksal düzenlemelerle getirilen ilkeler ile genel güven ve dürüstlük \\nkuralına uygun hareket etmektedir. Bu kapsamda Şirketimiz, kişisel verilerin işlenmesinde \\norantılılık gerekliliklerini d ikkate almakta, kişisel verileri amacın gerektirdiği dışında \\nkullanmamaktadır.  \\n• Kişisel Verilerin Doğru ve Gerektiğinde Güncel Olmasını Sağlama : Şirketimiz; \\nkişisel veri sahiplerinin temel haklarını ve kendi meşru menfaatlerini dikkate alarak işlediği \\nkişisel verilerin doğru ve güncel olmasını sağlamaktadır.  \\n• Belirli, Açık ve Meşru Amaçlarla İşleme : Şirketimiz, meşru ve hukuka uygun olan \\nkişisel veri işleme amacını açık ve kesin olarak belirlemektedir. Şirketimiz, kişisel verileri \\nsunmakta olduğu ürün ve hi zmetler ile bağlantılı ve bunlar için gerekli olan kadar \\nişlemektedir.  \\n• İşlendikleri Amaçla Bağlantılı, Sınırlı ve Ölçülü Olma : Şirketimiz, kişisel verileri \\nbelirlenen amaçların gerçekleştirilebilmesine elverişli bir biçimde işlemekte ve amacın \\ngerçekleşti rilmesiyle ilgili olmayan veya ihtiyaç duyulmayan kişisel verilerin işlenmesinden \\nkaçınmaktadır.  \\n• İlgili Mevzuatta Öngörülen veya İşlendikleri Amaç için Gerekli Olan Süre Kadar \\nMuhafaza Etme : Şirketimiz, kişisel verileri ancak ilgili mevzuatta belirtildiği  veya', metadata={'source': 'KVK_07 KVK  Özel Nitelikli KVKK Politikası.pdf', 'page': 3}),\n",
       " Document(page_content='ÖZEL NİTELİKLİ KİŞİSEL \\nVERİLERİN KORUNMASI \\nPOLİTİKASI    Doküman No  KVK_07  \\nYayın Tarihi  01.03.2023  \\nRevizyon No   \\nRevizyon Tarihi No   \\n \\n5 \\n \\nişlendikleri amaç için gerekli olan süre kadar muhafaza etmektedir. Bu kapsamda, \\nŞirketimiz öncelikle ilgili mevzuatta kişisel verilerin saklanması için bir süre öngörülüp \\nöngörülmediğini tespit etmekte, bir süre belirlenmişse bu süreye uygun davranm akta, bir \\nsüre belirlenmemişse kişisel verileri işlendikleri amaç için gerekli olan süre kadar \\nsaklamaktadır. Sürenin bitimi veya işlenmesini gerektiren sebeplerin ortadan kalkması \\nhalinde kişisel veriler Şirketimiz tarafından silinmekte, yok edilmekte vey a anonim hale \\ngetirilmektedir.  \\n4. ÖZEL NİTELİKLİ KİŞİSEL VERİLERİN AKTARILMASI  \\n \\nŞirketimiz gerekli özeni göstererek, gerekli güvenlik tedbirlerini alarak ve KVK Kurulu \\ntarafından öngörülen yeterli önlemleri alarak; meşru ve hukuka uygun kişisel veri işleme \\namaçları doğrultusunda kişisel veri sahibinin özel nitelikli verilerini aşağıdaki durumlarda \\nüçüncü kişilere aktarabilmektedir.  \\n \\nÖzel nitelikli kişisel veriler, k işisel veri sahibinin açık rızası var ise buna dayalı olarak veya  \\nKişisel veri sahibini n açık rızası yok ise;  \\n• Kişisel veri sahibinin sağlığı ve cinsel hayat ı dışındaki özel nitelikli kişisel verileri ( ırk, etnik \\nköken, siyası düşünce, felsefi inanç, din, mezhep veya diğer inançlar, kılık ve kıyafet, \\ndernek, vakıf ya da sendika üyeliği, ceza mahkûmiyeti ve güvenlik tedbirleriyle ilgili veriler \\nile biyometrik ve genetik verilerdir), kanunlarda öngörülen istisnai hallerde,  \\n \\n• Kişisel veri sahibinin sağlığına ve cinsel hayatına ilişkin özel nitelikli kişisel verileri ise ancak \\nkamu sağlığının korunması, koruyucu hekiml ik, tıbbi teşhis, tedavi ve bakı m hizmetlerinin \\nyürütülmesi, sağlık hizmetleri ile finansmanının planlanması ve yönetimi amacıyla, sır \\nsaklama yükümlülüğü altında bulunan kişiler veya yetkili kurum ve ku ruluşlar tarafın dan \\nişlenebilir (Örn. işyeri hekimimiz).  \\nHangi nedene dayanırsa dayansın, aktarım süreçlerinde daima yukarıda yer alan genel veri \\nişleme ilkeleri dikkate alınır ve b una ilkelere uygunluk sağlanır .', metadata={'source': 'KVK_07 KVK  Özel Nitelikli KVKK Politikası.pdf', 'page': 4}),\n",
       " Document(page_content='ÖZEL NİTELİKLİ KİŞİSEL \\nVERİLERİN KORUNMASI \\nPOLİTİKASI    Doküman No  KVK_07  \\nYayın Tarihi  01.03.2023  \\nRevizyon No   \\nRevizyon Tarihi No   \\n \\n6 \\n \\n5. ÖZEL NİTELİKLİ KİŞİSEL VERİLERİNİZİ HANGİ HUKUKİ SEBEPLERL E \\nİŞLİYORUZ?  \\n \\nÖzel nitelikli kişisel verilerinizi  başta 6102 sayılı Türk Ticaret Kanunu, 6098 sayılı Türk \\nBorçlar Kanunu olmak üzere  KVKK m. 5’te düzenlenen hukuki sebepler çerçevesinde  \\nişliyoruz : \\n \\na) Kanunlarda açıkça öngörülmesi.  \\nb) Fiili imkânsızlık nedeniyle rızasını açıklayamayacak durumda bulunan veya rızasına \\nhukuki geçerlilik tanınmayan kişinin kendisinin ya da bir başkasının hayatı veya beden \\nbütünlüğünün korunması için zorunlu olması.  \\nc) Bir sözleşmenin kurulması veya ifasıyla doğrudan doğruya ilgili olması kaydıyla, \\nsözleşmenin taraflarına ait  kişisel verilerin işlenmesinin gerekli olması.  \\nç) Veri sorumlusunun hukuki yükümlülüğünü yerine getirebilmesi için zorunlu olması.  \\nd) İlgili kişi nin kendisi tarafından alenileştirilmiş olması.  \\ne) Bir hakkın tesisi, kullanılması veya korunması için  veri işlemenin zorunlu olması .  \\nf) İlgili kişinin temel hak ve özgürlüklerine zarar vermemek kaydıyla, veri sorumlusunun \\nmeşru menfaatleri için veri işl enmesinin zorunlu olması.  \\n \\n6. ÖZEL NİTELİKLİ VERİLERİN İŞLENMESİNDE ALINAN TEKNİK VE İDARİ \\nTEDBİRLER  \\n \\nŞirketimiz tarafından, KVKK ile “özel nitelikli” olarak belirlenen ve hukuka uygun olarak işlenen \\nözel nitelikli kişisel verilerin korunmasında hassasiyetle davranılmaktadır. Bu kapsamda, \\nŞirketimiz tarafından, kişisel verilerin korunması için alınan teknik ve idari tedbirler, özel \\nnitelikli kişisel veriler bakımından özenle uygulanmakta ve Şirketimiz  bünyesinde gerekli \\ndenetimler sağlanmaktadır.  \\nKVK Kurumu’nun  31/01/2018 tarihli ve 2018/10 sayılı “Özel Nitelikli Kişisel Verilerin \\nİşlenmesinde Veri Sorumlularınca Alınması Gereken Yeterli Önlemler” başlıklı karar ında \\naçıklanan özel nitelikli kişisel verilerin işlenmesinde alınması gereken  teknik ve idari tedbirle r \\nkapsamında Şirketimiz tarafından alınan teknik ve idari tedbirler şu şekildedir :', metadata={'source': 'KVK_07 KVK  Özel Nitelikli KVKK Politikası.pdf', 'page': 5}),\n",
       " Document(page_content='ÖZEL NİTELİKLİ KİŞİSEL \\nVERİLERİN KORUNMASI \\nPOLİTİKASI    Doküman No  KVK_07  \\nYayın Tarihi  01.03.2023  \\nRevizyon No   \\nRevizyon Tarihi No   \\n \\n7 \\n \\n1. Özel nitelikli kişisel verilerin güvenliğine yönelik işbu Politika hazırlanmış ve yürürlüğe  \\nalınmıştır.  \\n \\n2. Özel nitelikli kişisel verilerin işlenmesi süreçlerinde yer alan çalışanlara yönelik  olarak \\naşağıdaki önlemler alınmıştır:  \\n \\n• Kanun ve buna bağlı yönetmelikler ile özel nitelikli kişisel veri güvenliği konularında \\ndüzenli olarak eğitimler verilmektedir.  \\n• Özel nitelikli kişisel veriye erişimi olan çalışanlar ile özel n itelikli kişisel verileri gizli \\ntutacakları, hukuka aykırı bir şekilde kullanmayacakları ve korumak için en yüksek \\nderecede özeni göstereceklerine ilişkin taahhütnameler imzalanmaktadır.  \\n• Verilere erişim yetkisine sahip kullanıcıların, yet ki kapsamları ve süreleri net olarak \\ntanımlanmaktadır.  \\n• Bu çalışanların yetki kontrolleri  periyodik olarak gerçekleştirilmektedir.  \\n• Görev değişikliği olan ya da işten ayrılan çalışanların bu alandaki yetkileri derhal \\nkaldırılmaktadır . Bu kapsamda, çalışana Şirketimizce  tahsis edilen envanter  iade \\nalınmaktadır.  \\n \\n3. Özel nitelikli kişisel verilerin işlendiği, muhafaza edildiği ve/veya eriş ildiği ortamlar ın \\nelektronik ortam olması halinde ; \\n \\n• Veriler  kriptografik yöntemler kullanılarak muhafaza edilmekte , \\n• Kriptografik anahtarlar  güvenli ve farklı ortamlarda tutulmakta , \\n• Veriler üzerinde gerçekleştirilen tü m hareketlerin işlem kayıtları  güvenli olarak \\nloglanmakta , \\n• Verilerin bulunduğu ortamlara  ait güvenlik güncellemeleri  sürekli takip edilmekte, \\ngerekli güvenlik testleri düzenli olarak yapılmakta veya yaptırılmakta, test sonuçları  \\nkayıt altına alınmaktadır.  \\n• Verilere bir yazılım aracılığı ile eri şiliyorsa bu yazılıma ait kullanıcı yetkilendirmeleri \\nyapılmakta , bu yazılımların güvenlik testleri  düzenli olarak yapıl makta veya \\nyaptırılmakta , test sonuçları kayıt altına alınmaktadır.', metadata={'source': 'KVK_07 KVK  Özel Nitelikli KVKK Politikası.pdf', 'page': 6}),\n",
       " Document(page_content='ÖZEL NİTELİKLİ KİŞİSEL \\nVERİLERİN KORUNMASI \\nPOLİTİKASI    Doküman No  KVK_07  \\nYayın Tarihi  01.03.2023  \\nRevizyon No   \\nRevizyon Tarihi No   \\n \\n8 \\n \\n• Verilere uzaktan erişim gerekiyorsa en az iki kade meli kimlik doğrul ama sistemi \\nsağlanmaktadır.  \\n \\n4. Özel nitelikli kişisel verilerin işlendiği, muhafaza edildiği ve/veya erişildiği  ortamların  \\nfiziksel ortam olması halinde ; \\n \\n• Özel nitelikli kişisel verilerin bulunduğu ortamın niteliğine göre yeterli güvenlik \\nönlemlerinin (elektrik kaçağı, yangın, su baskını, hırsızlık vb. durumlara karşı) \\nalındığından emin olunmaktadır.  \\n• Bu ortamların fiziksel güvenliğinin sağl anarak yetkisiz g iriş çıkışlar engellenmektedir.  \\n \\n5. Özel nitelikli kişisel verilerin aktarılması halinde aşağıdaki kurallar uygulanmaktadır:  \\n \\n• Verilerin e-posta yoluyla aktarılması gerekiyorsa , Şirket’in güvenli  dosya transfer \\nplatformu ( https://filetransfer.unifree.com.tr ) vasıtasıyla gönderilmekte  veya Kayıtlı \\nElektronik Posta (KEP) hesabı kullanılarak aktarılmaktadır.  \\n• Taşınabilir Bellek, CD, DVD gibi o rtamlar yoluyla aktarılması gerekiyorsa  veriler  \\nkriptografik yö ntemlerle şifrelenmekte ve kriptografik anahtar  farklı ortamda \\ntutulmaktadır.  \\n• Farklı fiziksel ortamlardaki sunucular arasında aktarma gerçekleştirildiğinde , sunucular \\narasında VPN kurularak vey a FTP yöntemiyle veri aktarımı gerçekleştirilmektedir.  \\n• Verilerin kağıt ortamı yoluyla aktarımı gerekiyorsa evrakın çalınması, kaybolması ya \\nda yetkisiz kişiler tarafından görülmesi gibi ri sklere karşı gerekli önlemler alınmakta ve \\nevrak “gizlilik dereceli belgeler” formatında gönderilmektedir . \\n \\n6. Yukarıda belirtilen önlemlerin yanı sıra KVK Kurumu’nun  internet sitesinde yayımlanan \\nKişisel Veri Güvenliği Rehberinde belirtilen uygun güvenlik düzeyini temin etmeye yönelik \\nteknik ve idari tedbirler de dikkate alınmaktadır . \\n7. ÖZEL NİTELİKLİ KİŞİSEL VERİLERİ NE KADAR SÜREYLE SAKLARIZ?  \\n \\nÖzel nitelikli kişisel verileri yalnızca toplandıkları amacı yerine getirmek için gerekli süre \\nboyunca saklarız. Bu süreleri her bir iş süreci özelinde ayrı ayrı belirliyoruz ve ilgili sürelerin', metadata={'source': 'KVK_07 KVK  Özel Nitelikli KVKK Politikası.pdf', 'page': 7}),\n",
       " Document(page_content='ÖZEL NİTELİKLİ KİŞİSEL \\nVERİLERİN KORUNMASI \\nPOLİTİKASI    Doküman No  KVK_07  \\nYayın Tarihi  01.03.2023  \\nRevizyon No   \\nRevizyon Tarihi No   \\n \\n9 \\n \\nsona ermesinin sonunda kişisel verilerinizi saklamamız gereke n başkaca bir sebep \\nbulunmuyorsa kişisel verileri KVKK’ya uygun bir şekilde imha ediyoruz.  \\n \\nKişisel verilerin saklama ve imha süreleri “ Kişisel Veri Saklama ve İmha Politikası ”nda \\nsüreç özelinde tespit edilmiştir.  \\n \\nKişisel verilerin imhası ise Şirketimizin websitesinde yer alan “ Kişisel Verilerin Korunması \\nve Gizlilik Politikası ”nda açıklanmaktadır.   \\n \\nEk.1 Kısaltmalar  \\n \\nKISALTMALAR  \\nİlgili Kişi/İlgili \\nKişiler ya da Veri \\nSahibi  Müşterilerimiz , iş ortakları mız, hissedarları mız, yetkilileri miz, aday \\nçalışanları mız, stajyerleri miz, ziyaretçileri miz, tedarikçileri miz, işbirliği \\niçinde çalıştığı mız kurumların çalışanları, üçüncü kişiler ve burada \\nsayılanlarla sınırlı olmamak üzere diğer kişiler gibi kişisel verisi işlenen \\ngerçek kişi yi ifade eder.  \\nKişisel Verilerin \\nSilinmesi, Yok \\nEdilmesi veya \\nAnonim Hale \\nGetirilmesi \\nHakkında \\nYönetmelik  28 Ekim 2017 tarihli 30224 sayılı Resmi Gazete’de yayımlanan ve 1 \\nOcak 2018 tarihi itibariyle yürürlüğe giren Kişisel Verilerin Silinmesi, \\nYok Edilme si veya Anonim Hale Getirilmesi Hakkında Yönetmelik  \\nKVKK /Kanun  7 Nisan 2016 tarihli ve 29677 sayılı Resmi Gazete’de yayımlanarak \\nyürürlüğe giren Kişisel Verilerin Korunması Kanunu  \\nKVK Kurulu  Kişisel Verileri Koruma Kurulu  \\nKVK Kurumu  Kişisel Verileri Kor uma Kurumu  \\nm. Madde  \\nÖrn. Örnek  \\nŞirket /Şirketimiz  Unifree Duty Free İşletmeciliği Anonim Şirketi', metadata={'source': 'KVK_07 KVK  Özel Nitelikli KVKK Politikası.pdf', 'page': 8})]"
      ]
     },
     "execution_count": 36,
     "metadata": {},
     "output_type": "execute_result"
    }
   ],
   "source": [
    "from langchain_community.document_loaders import PyPDFLoader\n",
    "\n",
    "loader = PyPDFLoader(\"KVK_07 KVK  Özel Nitelikli KVKK Politikası.pdf\")\n",
    "pages = loader.load_and_split()\n",
    "pages"
   ]
  },
  {
   "cell_type": "code",
   "execution_count": 37,
   "metadata": {},
   "outputs": [],
   "source": [
    "from langchain_community.vectorstores import DocArrayInMemorySearch\n",
    "\n",
    "vectorstore = DocArrayInMemorySearch.from_documents(pages, embedding=embeddings)"
   ]
  },
  {
   "cell_type": "code",
   "execution_count": 38,
   "metadata": {},
   "outputs": [
    {
     "data": {
      "text/plain": [
       "[Document(page_content='ÖZEL NİTELİKLİ KİŞİSEL \\nVERİLERİN KORUNMASI \\nPOLİTİKASI    Doküman No  KVK_07  \\nYayın Tarihi  01.03.2023  \\nRevizyon No   \\nRevizyon Tarihi No   \\n \\n7 \\n \\n1. Özel nitelikli kişisel verilerin güvenliğine yönelik işbu Politika hazırlanmış ve yürürlüğe  \\nalınmıştır.  \\n \\n2. Özel nitelikli kişisel verilerin işlenmesi süreçlerinde yer alan çalışanlara yönelik  olarak \\naşağıdaki önlemler alınmıştır:  \\n \\n• Kanun ve buna bağlı yönetmelikler ile özel nitelikli kişisel veri güvenliği konularında \\ndüzenli olarak eğitimler verilmektedir.  \\n• Özel nitelikli kişisel veriye erişimi olan çalışanlar ile özel n itelikli kişisel verileri gizli \\ntutacakları, hukuka aykırı bir şekilde kullanmayacakları ve korumak için en yüksek \\nderecede özeni göstereceklerine ilişkin taahhütnameler imzalanmaktadır.  \\n• Verilere erişim yetkisine sahip kullanıcıların, yet ki kapsamları ve süreleri net olarak \\ntanımlanmaktadır.  \\n• Bu çalışanların yetki kontrolleri  periyodik olarak gerçekleştirilmektedir.  \\n• Görev değişikliği olan ya da işten ayrılan çalışanların bu alandaki yetkileri derhal \\nkaldırılmaktadır . Bu kapsamda, çalışana Şirketimizce  tahsis edilen envanter  iade \\nalınmaktadır.  \\n \\n3. Özel nitelikli kişisel verilerin işlendiği, muhafaza edildiği ve/veya eriş ildiği ortamlar ın \\nelektronik ortam olması halinde ; \\n \\n• Veriler  kriptografik yöntemler kullanılarak muhafaza edilmekte , \\n• Kriptografik anahtarlar  güvenli ve farklı ortamlarda tutulmakta , \\n• Veriler üzerinde gerçekleştirilen tü m hareketlerin işlem kayıtları  güvenli olarak \\nloglanmakta , \\n• Verilerin bulunduğu ortamlara  ait güvenlik güncellemeleri  sürekli takip edilmekte, \\ngerekli güvenlik testleri düzenli olarak yapılmakta veya yaptırılmakta, test sonuçları  \\nkayıt altına alınmaktadır.  \\n• Verilere bir yazılım aracılığı ile eri şiliyorsa bu yazılıma ait kullanıcı yetkilendirmeleri \\nyapılmakta , bu yazılımların güvenlik testleri  düzenli olarak yapıl makta veya \\nyaptırılmakta , test sonuçları kayıt altına alınmaktadır.', metadata={'source': 'KVK_07 KVK  Özel Nitelikli KVKK Politikası.pdf', 'page': 6}),\n",
       " Document(page_content='ÖZEL NİTELİKLİ KİŞİSEL \\nVERİLERİN KORUNMASI \\nPOLİTİKASI    Doküman No  KVK_07  \\nYayın Tarihi  01.03.2023  \\nRevizyon No   \\nRevizyon Tarihi No   \\n \\n8 \\n \\n• Verilere uzaktan erişim gerekiyorsa en az iki kade meli kimlik doğrul ama sistemi \\nsağlanmaktadır.  \\n \\n4. Özel nitelikli kişisel verilerin işlendiği, muhafaza edildiği ve/veya erişildiği  ortamların  \\nfiziksel ortam olması halinde ; \\n \\n• Özel nitelikli kişisel verilerin bulunduğu ortamın niteliğine göre yeterli güvenlik \\nönlemlerinin (elektrik kaçağı, yangın, su baskını, hırsızlık vb. durumlara karşı) \\nalındığından emin olunmaktadır.  \\n• Bu ortamların fiziksel güvenliğinin sağl anarak yetkisiz g iriş çıkışlar engellenmektedir.  \\n \\n5. Özel nitelikli kişisel verilerin aktarılması halinde aşağıdaki kurallar uygulanmaktadır:  \\n \\n• Verilerin e-posta yoluyla aktarılması gerekiyorsa , Şirket’in güvenli  dosya transfer \\nplatformu ( https://filetransfer.unifree.com.tr ) vasıtasıyla gönderilmekte  veya Kayıtlı \\nElektronik Posta (KEP) hesabı kullanılarak aktarılmaktadır.  \\n• Taşınabilir Bellek, CD, DVD gibi o rtamlar yoluyla aktarılması gerekiyorsa  veriler  \\nkriptografik yö ntemlerle şifrelenmekte ve kriptografik anahtar  farklı ortamda \\ntutulmaktadır.  \\n• Farklı fiziksel ortamlardaki sunucular arasında aktarma gerçekleştirildiğinde , sunucular \\narasında VPN kurularak vey a FTP yöntemiyle veri aktarımı gerçekleştirilmektedir.  \\n• Verilerin kağıt ortamı yoluyla aktarımı gerekiyorsa evrakın çalınması, kaybolması ya \\nda yetkisiz kişiler tarafından görülmesi gibi ri sklere karşı gerekli önlemler alınmakta ve \\nevrak “gizlilik dereceli belgeler” formatında gönderilmektedir . \\n \\n6. Yukarıda belirtilen önlemlerin yanı sıra KVK Kurumu’nun  internet sitesinde yayımlanan \\nKişisel Veri Güvenliği Rehberinde belirtilen uygun güvenlik düzeyini temin etmeye yönelik \\nteknik ve idari tedbirler de dikkate alınmaktadır . \\n7. ÖZEL NİTELİKLİ KİŞİSEL VERİLERİ NE KADAR SÜREYLE SAKLARIZ?  \\n \\nÖzel nitelikli kişisel verileri yalnızca toplandıkları amacı yerine getirmek için gerekli süre \\nboyunca saklarız. Bu süreleri her bir iş süreci özelinde ayrı ayrı belirliyoruz ve ilgili sürelerin', metadata={'source': 'KVK_07 KVK  Özel Nitelikli KVKK Politikası.pdf', 'page': 7}),\n",
       " Document(page_content='ÖZEL NİTELİKLİ KİŞİSEL \\nVERİLERİN KORUNMASI \\nPOLİTİKASI    Doküman No  KVK_07  \\nYayın Tarihi  01.03.2023  \\nRevizyon No   \\nRevizyon Tarihi No   \\n \\n4 \\n \\n• Veri sahibinin sağlığı ve cinsel hayatı  dışındaki özel nitelikli kişisel veriler, kanunlarda \\nöngörülen  istisnai  hallerde açık rıza aranmaksızın veya kişisel veri sahibinin açık rızası var \\nise buna dayalı olarak,  \\n• Veri sahibinin sağlığına ve cinsel hayatına ilişkin özel nitelikli kişisel veriler ise ancak kişisel \\nveri sahibinin açık rızası ile işlenmektedir.  \\nHangi nedene dayanırsa dayansın, işleme süreçlerinde daima genel veri işleme ilkeleri dikkate \\nalınır ve buna  ilkelere uygunluk sağlanır . Bu ilkeler aşağıda açıklanmaktadır:  \\n3. ÖZEL NİTELİKLİ KİŞİSEL VERİLERİ İŞLEME İLKELERİMİZ  \\n \\nŞirketimiz tarafından işlenen tüm kişisel veriler, KVKK ve ilgili mevzuat uyarınca \\nişlenmektedir. KVKK 4. maddesi uyarınca kişisel verilerinizi işlerken dikkat ettiğimiz temel ilke \\nve prensipler aşağıda açıklanmıştır:  \\n \\n• Hukuka ve Dürüstlük Kuralına Uygun İ şleme : Şirketimiz; özel nitelikli kişisel verilerin \\nişlenmesinde hukuksal düzenlemelerle getirilen ilkeler ile genel güven ve dürüstlük \\nkuralına uygun hareket etmektedir. Bu kapsamda Şirketimiz, kişisel verilerin işlenmesinde \\norantılılık gerekliliklerini d ikkate almakta, kişisel verileri amacın gerektirdiği dışında \\nkullanmamaktadır.  \\n• Kişisel Verilerin Doğru ve Gerektiğinde Güncel Olmasını Sağlama : Şirketimiz; \\nkişisel veri sahiplerinin temel haklarını ve kendi meşru menfaatlerini dikkate alarak işlediği \\nkişisel verilerin doğru ve güncel olmasını sağlamaktadır.  \\n• Belirli, Açık ve Meşru Amaçlarla İşleme : Şirketimiz, meşru ve hukuka uygun olan \\nkişisel veri işleme amacını açık ve kesin olarak belirlemektedir. Şirketimiz, kişisel verileri \\nsunmakta olduğu ürün ve hi zmetler ile bağlantılı ve bunlar için gerekli olan kadar \\nişlemektedir.  \\n• İşlendikleri Amaçla Bağlantılı, Sınırlı ve Ölçülü Olma : Şirketimiz, kişisel verileri \\nbelirlenen amaçların gerçekleştirilebilmesine elverişli bir biçimde işlemekte ve amacın \\ngerçekleşti rilmesiyle ilgili olmayan veya ihtiyaç duyulmayan kişisel verilerin işlenmesinden \\nkaçınmaktadır.  \\n• İlgili Mevzuatta Öngörülen veya İşlendikleri Amaç için Gerekli Olan Süre Kadar \\nMuhafaza Etme : Şirketimiz, kişisel verileri ancak ilgili mevzuatta belirtildiği  veya', metadata={'source': 'KVK_07 KVK  Özel Nitelikli KVKK Politikası.pdf', 'page': 3}),\n",
       " Document(page_content='ÖZEL NİTELİKLİ KİŞİSEL \\nVERİLERİN KORUNMASI \\nPOLİTİKASI    Doküman No  KVK_07  \\nYayın Tarihi  01.03.2023  \\nRevizyon No   \\nRevizyon Tarihi No   \\n \\n5 \\n \\nişlendikleri amaç için gerekli olan süre kadar muhafaza etmektedir. Bu kapsamda, \\nŞirketimiz öncelikle ilgili mevzuatta kişisel verilerin saklanması için bir süre öngörülüp \\nöngörülmediğini tespit etmekte, bir süre belirlenmişse bu süreye uygun davranm akta, bir \\nsüre belirlenmemişse kişisel verileri işlendikleri amaç için gerekli olan süre kadar \\nsaklamaktadır. Sürenin bitimi veya işlenmesini gerektiren sebeplerin ortadan kalkması \\nhalinde kişisel veriler Şirketimiz tarafından silinmekte, yok edilmekte vey a anonim hale \\ngetirilmektedir.  \\n4. ÖZEL NİTELİKLİ KİŞİSEL VERİLERİN AKTARILMASI  \\n \\nŞirketimiz gerekli özeni göstererek, gerekli güvenlik tedbirlerini alarak ve KVK Kurulu \\ntarafından öngörülen yeterli önlemleri alarak; meşru ve hukuka uygun kişisel veri işleme \\namaçları doğrultusunda kişisel veri sahibinin özel nitelikli verilerini aşağıdaki durumlarda \\nüçüncü kişilere aktarabilmektedir.  \\n \\nÖzel nitelikli kişisel veriler, k işisel veri sahibinin açık rızası var ise buna dayalı olarak veya  \\nKişisel veri sahibini n açık rızası yok ise;  \\n• Kişisel veri sahibinin sağlığı ve cinsel hayat ı dışındaki özel nitelikli kişisel verileri ( ırk, etnik \\nköken, siyası düşünce, felsefi inanç, din, mezhep veya diğer inançlar, kılık ve kıyafet, \\ndernek, vakıf ya da sendika üyeliği, ceza mahkûmiyeti ve güvenlik tedbirleriyle ilgili veriler \\nile biyometrik ve genetik verilerdir), kanunlarda öngörülen istisnai hallerde,  \\n \\n• Kişisel veri sahibinin sağlığına ve cinsel hayatına ilişkin özel nitelikli kişisel verileri ise ancak \\nkamu sağlığının korunması, koruyucu hekiml ik, tıbbi teşhis, tedavi ve bakı m hizmetlerinin \\nyürütülmesi, sağlık hizmetleri ile finansmanının planlanması ve yönetimi amacıyla, sır \\nsaklama yükümlülüğü altında bulunan kişiler veya yetkili kurum ve ku ruluşlar tarafın dan \\nişlenebilir (Örn. işyeri hekimimiz).  \\nHangi nedene dayanırsa dayansın, aktarım süreçlerinde daima yukarıda yer alan genel veri \\nişleme ilkeleri dikkate alınır ve b una ilkelere uygunluk sağlanır .', metadata={'source': 'KVK_07 KVK  Özel Nitelikli KVKK Politikası.pdf', 'page': 4})]"
      ]
     },
     "execution_count": 38,
     "metadata": {},
     "output_type": "execute_result"
    }
   ],
   "source": [
    "retriever = vectorstore.as_retriever()\n",
    "retriever.invoke(\"Özel nitelikli kişisel veriler\")"
   ]
  },
  {
   "cell_type": "code",
   "execution_count": 39,
   "metadata": {},
   "outputs": [],
   "source": [
    "from operator import itemgetter\n",
    "\n",
    "chain = (\n",
    "    {\n",
    "        \"context\": itemgetter(\"question\") | retriever,\n",
    "        \"question\": itemgetter(\"question\"),\n",
    "    }\n",
    "    | prompt\n",
    "    | model\n",
    "    | parser\n",
    ")"
   ]
  },
  {
   "cell_type": "code",
   "execution_count": 40,
   "metadata": {},
   "outputs": [
    {
     "name": "stdout",
     "output_type": "stream",
     "text": [
      "Question: Şirket özel nitelikli kişisel verileri hangi hukuki sebeplerle işler?\n",
      "Answer: Şirket özel nitelikli kişisel verileri başta 6102 sayılı Türk Ticaret Kanunu, 6098 sayılı Türk Borçlar Kanunu olmak üzere KVKK m. 5’te düzenlenen hukuki sebepler çerçevesinde işler. Bu sebepler şunlardır: \n",
      "a) Kanunlarda açıkça öngörülmesi.\n",
      "b) Fiili imkânsızlık nedeniyle rızasını açıklayamayacak durumda bulunan veya rızasına hukuki geçerlilik tanınmayan kişinin kendisinin ya da bir başkasının hayatı veya beden bütünlüğünün korunması için zorunlu olması.\n",
      "c) Bir sözleşmenin kurulması veya ifasıyla doğrudan doğruya ilgili olması kaydıyla, sözleşmenin taraflarına ait kişisel verilerin işlenmesinin gerekli olması.\n",
      "ç) Veri sorumlusunun hukuki yükümlülüğünü yerine getirebilmesi için zorunlu olması.\n",
      "d) İlgili kişinin kendisi tarafından alenileştirilmiş olması.\n",
      "e) Bir hakkın tesisi, kullanılması veya korunması için veri işlemenin zorunlu olması.\n",
      "f) İlgili kişinin temel hak ve özgürlüklerine zarar vermemek kaydıyla, veri sorumlusunun meşru menfaatleri için veri işlenmesinin zorunlu olması.\n",
      "\n",
      "Question: Şirket özel nitelikli verileri nasıl aktarır?\n",
      "Answer: Şirket, özel nitelikli verileri e-posta yoluyla güvenli dosya transfer platformu veya Kayıtlı Elektronik Posta (KEP) hesabı kullanarak aktarır. Taşınabilir bellek, CD, DVD gibi ortamlar yoluyla aktarılması gerektiğinde veriler kriptografik yöntemlerle şifrelenir ve kriptografik anahtar farklı ortamda tutulur. Farklı fiziksel ortamlardaki sunucular arasında aktarım gerçekleştirilirken VPN veya FTP yöntemi kullanılır. Verilerin kağıt ortamı yoluyla aktarılması gerektiğinde ise gizlilik dereceli belgeler formatında gönderilir.\n",
      "\n",
      "Question: Şirket özel nitelikli verileri ne kadar süre saklar ve sonra ne yapar?\n",
      "Answer: Şirket özel nitelikli verileri sadece toplandıkları amacı yerine getirmek için gerekli süre boyunca saklar. Bu sürenin sona ermesinin ardından, başka bir sebep bulunmadığı takdirde kişisel veriler KVKK'ya uygun bir şekilde imha edilir.\n",
      "\n",
      "Question: Şirket özel nitelikli veriler için hangi teknik ve idari tedbirleri alır?\n",
      "Answer: Şirket özel nitelikli veriler için kriptografik yöntemler kullanarak verileri muhafaza eder, kriptografik anahtarları güvenli ve farklı ortamlarda tutar, veriler üzerinde gerçekleştirilen tüm hareketlerin işlem kayıtlarını güvenli olarak tutar, verilerin bulunduğu ortamlara ait güvenlik güncellemelerini sürekli takip eder ve gerekli güvenlik testlerini düzenli olarak yapar veya yaptırır.\n",
      "\n",
      "Question: Şirket çalışanları için özel nitelikli veri işleme süreçlerinde hangi önlemleri alır?\n",
      "Answer: Şirket çalışanları için özel nitelikli veri işleme süreçlerinde aşağıdaki önlemler alınmaktadır:\n",
      "1. Kanun ve buna bağlı yönetmelikler ile özel nitelikli kişisel veri güvenliği konularında düzenli olarak eğitimler verilmektedir.\n",
      "2. Özel nitelikli kişisel veriye erişimi olan çalışanlar ile özel nitelikli kişisel verileri gizli tutacakları, hukuka aykırı bir şekilde kullanmayacakları ve korumak için en yüksek derecede özeni göstereceklerine ilişkin taahhütnameler imzalanmaktadır.\n",
      "3. Verilere erişim yetkisine sahip kullanıcıların yetki kapsamları ve süreleri net olarak tanımlanmaktadır.\n",
      "4. Bu çalışanların yetki kontrolleri periyodik olarak gerçekleştirilmektedir.\n",
      "5. Görev değişikliği olan ya da işten ayrılan çalışanların bu alandaki yetkileri derhal kaldırılmaktadır. Bu kapsamda, çalışana Şirketimizce tahsis edilen envanter iade alınmaktadır.\n",
      "\n"
     ]
    }
   ],
   "source": [
    "questions = [\n",
    "    \"Şirket özel nitelikli kişisel verileri hangi hukuki sebeplerle işler?\",\n",
    "    \"Şirket özel nitelikli verileri nasıl aktarır?\",\n",
    "    \"Şirket özel nitelikli verileri ne kadar süre saklar ve sonra ne yapar?\",\n",
    "    \"Şirket özel nitelikli veriler için hangi teknik ve idari tedbirleri alır?\",\n",
    "    \"Şirket çalışanları için özel nitelikli veri işleme süreçlerinde hangi önlemleri alır?\",\n",
    "]\n",
    "\n",
    "for question in questions:\n",
    "    print(f\"Question: {question}\")\n",
    "    print(f\"Answer: {chain.invoke({'question': question})}\")\n",
    "    print()"
   ]
  },
  {
   "cell_type": "markdown",
   "metadata": {},
   "source": [
    "ÖRNEK 2"
   ]
  },
  {
   "cell_type": "code",
   "execution_count": 47,
   "metadata": {},
   "outputs": [
    {
     "data": {
      "text/plain": [
       "[Document(page_content='UNIFREE DUTY FREE İŞLETMECİLİĞİ A.Ş.  \\n \\n \\nELEKTRONİK VERİ İMHA PROSEDÜRÜ  \\n \\n \\nKVK _10', metadata={'source': 'KVK_10 Elektronik Veri imha Prosedürü.pdf', 'page': 0}),\n",
       " Document(page_content='ELEKTRONİK VERİ İMHA \\nPROSEDÜRÜ  Doküman No  KVK_10  \\nYayın Tarihi  01.03.2023  \\n Revizyon No   \\nRevizyon Tarihi No   \\n \\n1 \\n \\n \\n \\nİÇİNDEKİLER  \\n \\n1. GİRİŞ  ................................ ................................ ................................ ................................ .........  2 \\n2. KAPSAM  ................................ ................................ ................................ ................................ .... 2 \\n3. HEDEF KULLANICI  ................................ ................................ ................................ ................  2 \\n4. YÖNTEMİ  ................................ ................................ ................................ ................................ .. 2 \\n5. SORUMLULUK  ................................ ................................ ................................ .........................  3 \\n6. KAYITLAR  ................................ ................................ ................................ ................................ . 4 \\n7. REFERANSLAR  ................................ ................................ ................................ ........................  4', metadata={'source': 'KVK_10 Elektronik Veri imha Prosedürü.pdf', 'page': 1}),\n",
       " Document(page_content='ELEKTRONİK VERİ İMHA \\nPROSEDÜRÜ  Doküman No  KVK_10  \\nYayın Tarihi  01.03.2023  \\n Revizyon No   \\nRevizyon Tarihi No   \\n \\n2 \\n \\n1. GİRİŞ  \\n \\nBu prosedürün amacı herhangi bir sertifikalı yazılımın veya hassas verinin bilgisayarlar veya \\nveri saklama cihazları elden çıkarılmadan önce söz konusu yazılımın veya verinin kaldırılmış \\nolunmasından emin olmaktır.  \\nSaklama ortamına sahip imha edilecek cihazlar (bilgisayar, sunucu) önemli güvenlik riskleri \\nyaratır. Elektronik formdaki verinin güvenli imhası için verinin sadece silinmesi yeterli değildir. \\n(örneğin “SİL” ögesinin kullanılması) Bu şekilde veri sadece silinir ancak belirli yazılımcı \\nprogramları kullanılarak geri getirile bilir. \\nUygun olmayan şekilde atılan tek bir depolama ekipmanı dahi, gizli verilerin yetkisiz olarak \\nifşa edilmesini önlemek için uygun kontroller mevcut değilse ciddi sonuçlar doğabilir.  \\nUnifree bazen eski bilgisayarları hayır kurumlarına bağışlar. Eski bi lgisayarlarda saklanan \\nverinin hassaslığından ötürü geri getirilemeyecek şekilde olması gerekmektedir. Unifree  \\nsistem bakım sürecinin bir parçası olarak bazen hard diskleri yükseltir ve eski hard disklerde \\nhiçbir bilgi kalmadığından emin olmak ister.  \\n2. KAPSAM  \\n \\nBilgisayarlarda veya harici saklama ortamında bulunan tüm depolama ortamları bu \\nprosedürün kapsamındadır.  \\n3. HEDEF KULLANICI  \\n \\nBu prosedürün hedef kullanıcısı tüm BT çalışanlarıdır.  \\n4. YÖNTEMİ  \\nBazı saklama ortamlarına ilişkin imha yöntemi aşağıdaki gibidi r: \\nMedya   İmha yöntemi  \\nBilgisayarla işlenmiş veri/Hard disk \\nsürücüleri  Verilerin diskten silinmesi verileri imha etmez. Uygun \\nveri imha yazılımı kullanılması planlanmaktadır..  \\nCD’ler  Kırma veya çizme', metadata={'source': 'KVK_10 Elektronik Veri imha Prosedürü.pdf', 'page': 2}),\n",
       " Document(page_content='ELEKTRONİK VERİ İMHA \\nPROSEDÜRÜ  Doküman No  KVK_10  \\nYayın Tarihi  01.03.2023  \\n Revizyon No   \\nRevizyon Tarihi No   \\n \\n3 \\n \\nYeniden yazılabilir ortamda (harici diskler, yeniden yazılabilir DVD ve CD) saklanan verinin \\ngüvenli imhasına ilişkin yöntem, üzerine veri yazma yöntemidir.  \\nYeniden yazma işlemi özel geliştirilmiş programların kullanılmasıyla yapılır. Güvenilir disk \\nüzerine yazma yazılımının kullanılması verilerin yanlış ellere geçmesini engellemek için \\ngüvenilir bir çözümdür.  \\nSöz konusu program tüm harici disk üzerindeki bölümlerde, kısımlarda veya kullanılmamış \\nkısımda veri modellerinin one time random pass yöntemini (tek seferlik geçiş) kullanarak \\nüstün e yazma özelliğine sahip olmalıdır.  \\nBilgisayarlar harici disk sürücüler olmadan bağışlanır. Daha sonra tek seferlik Random Pass \\nile KillDisk yazılımı kullanılarak harici diskler silinir. Gerek duyulmayan tüm harici disklere \\nKillDisk yazılımı kullanılarak f ormat atılır. Ayrıca harici diskler fiziksel olarak da imha edilir.  \\n \\nUnifree bilgisayarlarının şifreleme programıyla korunmasına rağmen, tamir için gönderilen \\nbilgisayarların gönderilmeden önce BT çalışanları tarafından formatlanabilmesi adına bir \\nprogram alınması planlanmaktadır.  \\n \\nSilinen her bir saklama ortamı silinme sertifikası alır (imha formu). Elektronik Veri İmha Formu \\naşağıdaki bilgileri içerir:  \\n➢ Veri imha tarihi  \\n➢ İmha edilen verinin tanımı  \\n➢ İmha yöntemi  \\n➢ İmhadan sorumlu çalışanın adı soyadı  \\n➢ Harici diskte tespit edilen zarar görmüş kısımlar veya diğer arızalar.  \\n \\nÖzellikler veya arızalar harici diskin silinme sürecine engel oluyorsa, risklerin azaltılması ve \\ngüvenliğin sağlanması için disk fiziksel olarak imha edilir.  \\n5. SORUMLULUK  \\n \\nİmha işlemini  gerçekleştirecek BT çalışanı bilgiye veya cihaza sahip kişiden onay olarak \\nElektronik Veri İmha Formu oluşturmalı ve bu formu doldurmalıdır.', metadata={'source': 'KVK_10 Elektronik Veri imha Prosedürü.pdf', 'page': 3}),\n",
       " Document(page_content='ELEKTRONİK VERİ İMHA \\nPROSEDÜRÜ  Doküman No  KVK_10  \\nYayın Tarihi  01.03.2023  \\n Revizyon No   \\nRevizyon Tarihi No   \\n \\n4 \\n \\n6. KAYITLAR  \\n \\nVeri imha kayıtları çıktıları belirlenen klasörde dosyalanır.  \\n7. REFERANSLAR  \\n \\nElektronik Veri İmha Formu', metadata={'source': 'KVK_10 Elektronik Veri imha Prosedürü.pdf', 'page': 4})]"
      ]
     },
     "execution_count": 47,
     "metadata": {},
     "output_type": "execute_result"
    }
   ],
   "source": [
    "from langchain_community.document_loaders import PyPDFLoader\n",
    "\n",
    "loader = PyPDFLoader(\"KVK_10 Elektronik Veri imha Prosedürü.pdf\")\n",
    "pages = loader.load_and_split()\n",
    "pages"
   ]
  },
  {
   "cell_type": "code",
   "execution_count": 48,
   "metadata": {},
   "outputs": [],
   "source": [
    "from langchain_community.vectorstores import DocArrayInMemorySearch\n",
    "\n",
    "vectorstore = DocArrayInMemorySearch.from_documents(pages, embedding=embeddings)"
   ]
  },
  {
   "cell_type": "code",
   "execution_count": 49,
   "metadata": {},
   "outputs": [
    {
     "data": {
      "text/plain": [
       "[Document(page_content='ELEKTRONİK VERİ İMHA \\nPROSEDÜRÜ  Doküman No  KVK_10  \\nYayın Tarihi  01.03.2023  \\n Revizyon No   \\nRevizyon Tarihi No   \\n \\n4 \\n \\n6. KAYITLAR  \\n \\nVeri imha kayıtları çıktıları belirlenen klasörde dosyalanır.  \\n7. REFERANSLAR  \\n \\nElektronik Veri İmha Formu', metadata={'source': 'KVK_10 Elektronik Veri imha Prosedürü.pdf', 'page': 4}),\n",
       " Document(page_content='ELEKTRONİK VERİ İMHA \\nPROSEDÜRÜ  Doküman No  KVK_10  \\nYayın Tarihi  01.03.2023  \\n Revizyon No   \\nRevizyon Tarihi No   \\n \\n3 \\n \\nYeniden yazılabilir ortamda (harici diskler, yeniden yazılabilir DVD ve CD) saklanan verinin \\ngüvenli imhasına ilişkin yöntem, üzerine veri yazma yöntemidir.  \\nYeniden yazma işlemi özel geliştirilmiş programların kullanılmasıyla yapılır. Güvenilir disk \\nüzerine yazma yazılımının kullanılması verilerin yanlış ellere geçmesini engellemek için \\ngüvenilir bir çözümdür.  \\nSöz konusu program tüm harici disk üzerindeki bölümlerde, kısımlarda veya kullanılmamış \\nkısımda veri modellerinin one time random pass yöntemini (tek seferlik geçiş) kullanarak \\nüstün e yazma özelliğine sahip olmalıdır.  \\nBilgisayarlar harici disk sürücüler olmadan bağışlanır. Daha sonra tek seferlik Random Pass \\nile KillDisk yazılımı kullanılarak harici diskler silinir. Gerek duyulmayan tüm harici disklere \\nKillDisk yazılımı kullanılarak f ormat atılır. Ayrıca harici diskler fiziksel olarak da imha edilir.  \\n \\nUnifree bilgisayarlarının şifreleme programıyla korunmasına rağmen, tamir için gönderilen \\nbilgisayarların gönderilmeden önce BT çalışanları tarafından formatlanabilmesi adına bir \\nprogram alınması planlanmaktadır.  \\n \\nSilinen her bir saklama ortamı silinme sertifikası alır (imha formu). Elektronik Veri İmha Formu \\naşağıdaki bilgileri içerir:  \\n➢ Veri imha tarihi  \\n➢ İmha edilen verinin tanımı  \\n➢ İmha yöntemi  \\n➢ İmhadan sorumlu çalışanın adı soyadı  \\n➢ Harici diskte tespit edilen zarar görmüş kısımlar veya diğer arızalar.  \\n \\nÖzellikler veya arızalar harici diskin silinme sürecine engel oluyorsa, risklerin azaltılması ve \\ngüvenliğin sağlanması için disk fiziksel olarak imha edilir.  \\n5. SORUMLULUK  \\n \\nİmha işlemini  gerçekleştirecek BT çalışanı bilgiye veya cihaza sahip kişiden onay olarak \\nElektronik Veri İmha Formu oluşturmalı ve bu formu doldurmalıdır.', metadata={'source': 'KVK_10 Elektronik Veri imha Prosedürü.pdf', 'page': 3}),\n",
       " Document(page_content='ELEKTRONİK VERİ İMHA \\nPROSEDÜRÜ  Doküman No  KVK_10  \\nYayın Tarihi  01.03.2023  \\n Revizyon No   \\nRevizyon Tarihi No   \\n \\n2 \\n \\n1. GİRİŞ  \\n \\nBu prosedürün amacı herhangi bir sertifikalı yazılımın veya hassas verinin bilgisayarlar veya \\nveri saklama cihazları elden çıkarılmadan önce söz konusu yazılımın veya verinin kaldırılmış \\nolunmasından emin olmaktır.  \\nSaklama ortamına sahip imha edilecek cihazlar (bilgisayar, sunucu) önemli güvenlik riskleri \\nyaratır. Elektronik formdaki verinin güvenli imhası için verinin sadece silinmesi yeterli değildir. \\n(örneğin “SİL” ögesinin kullanılması) Bu şekilde veri sadece silinir ancak belirli yazılımcı \\nprogramları kullanılarak geri getirile bilir. \\nUygun olmayan şekilde atılan tek bir depolama ekipmanı dahi, gizli verilerin yetkisiz olarak \\nifşa edilmesini önlemek için uygun kontroller mevcut değilse ciddi sonuçlar doğabilir.  \\nUnifree bazen eski bilgisayarları hayır kurumlarına bağışlar. Eski bi lgisayarlarda saklanan \\nverinin hassaslığından ötürü geri getirilemeyecek şekilde olması gerekmektedir. Unifree  \\nsistem bakım sürecinin bir parçası olarak bazen hard diskleri yükseltir ve eski hard disklerde \\nhiçbir bilgi kalmadığından emin olmak ister.  \\n2. KAPSAM  \\n \\nBilgisayarlarda veya harici saklama ortamında bulunan tüm depolama ortamları bu \\nprosedürün kapsamındadır.  \\n3. HEDEF KULLANICI  \\n \\nBu prosedürün hedef kullanıcısı tüm BT çalışanlarıdır.  \\n4. YÖNTEMİ  \\nBazı saklama ortamlarına ilişkin imha yöntemi aşağıdaki gibidi r: \\nMedya   İmha yöntemi  \\nBilgisayarla işlenmiş veri/Hard disk \\nsürücüleri  Verilerin diskten silinmesi verileri imha etmez. Uygun \\nveri imha yazılımı kullanılması planlanmaktadır..  \\nCD’ler  Kırma veya çizme', metadata={'source': 'KVK_10 Elektronik Veri imha Prosedürü.pdf', 'page': 2}),\n",
       " Document(page_content='ELEKTRONİK VERİ İMHA \\nPROSEDÜRÜ  Doküman No  KVK_10  \\nYayın Tarihi  01.03.2023  \\n Revizyon No   \\nRevizyon Tarihi No   \\n \\n1 \\n \\n \\n \\nİÇİNDEKİLER  \\n \\n1. GİRİŞ  ................................ ................................ ................................ ................................ .........  2 \\n2. KAPSAM  ................................ ................................ ................................ ................................ .... 2 \\n3. HEDEF KULLANICI  ................................ ................................ ................................ ................  2 \\n4. YÖNTEMİ  ................................ ................................ ................................ ................................ .. 2 \\n5. SORUMLULUK  ................................ ................................ ................................ .........................  3 \\n6. KAYITLAR  ................................ ................................ ................................ ................................ . 4 \\n7. REFERANSLAR  ................................ ................................ ................................ ........................  4', metadata={'source': 'KVK_10 Elektronik Veri imha Prosedürü.pdf', 'page': 1})]"
      ]
     },
     "execution_count": 49,
     "metadata": {},
     "output_type": "execute_result"
    }
   ],
   "source": [
    "retriever = vectorstore.as_retriever()\n",
    "retriever.invoke(\"Veri İhlali\")"
   ]
  },
  {
   "cell_type": "code",
   "execution_count": 50,
   "metadata": {},
   "outputs": [],
   "source": [
    "from operator import itemgetter\n",
    "\n",
    "chain = (\n",
    "    {\n",
    "        \"context\": itemgetter(\"question\") | retriever,\n",
    "        \"question\": itemgetter(\"question\"),\n",
    "    }\n",
    "    | prompt\n",
    "    | model\n",
    "    | parser\n",
    ")"
   ]
  },
  {
   "cell_type": "code",
   "execution_count": 51,
   "metadata": {},
   "outputs": [
    {
     "name": "stdout",
     "output_type": "stream",
     "text": [
      "Question: Veri ihlal şüphesi durumunda ilk adım nedir?\n",
      "Answer: İlk adım, veri ihlal şüphesi durumunda Elektronik Veri İmha Formu oluşturmak ve doldurmaktır.\n",
      "\n",
      "Question: Kişisel veri ihlalinin tanımı nedir?\n",
      "Answer: I don't know.\n",
      "\n",
      "Question: KVK Komitesi’nin sorumlulukları nelerdir?\n",
      "Answer: I don't know.\n",
      "\n",
      "Question: Veri ihlalinin bildirim süresi ne kadardır?\n",
      "Answer: I don't know.\n",
      "\n",
      "Question: Veri ihlali bildirimi hangi bilgilerle yapılır?, bu bilgileri açıkla\n",
      "Answer: I don't know.\n",
      "\n"
     ]
    }
   ],
   "source": [
    "questions = [\n",
    "    \"Veri ihlal şüphesi durumunda ilk adım nedir?\",\n",
    "    \"Kişisel veri ihlalinin tanımı nedir?\",\n",
    "    \"KVK Komitesi’nin sorumlulukları nelerdir?\",\n",
    "    \"Veri ihlalinin bildirim süresi ne kadardır?\",\n",
    "    \"Veri ihlali bildirimi hangi bilgilerle yapılır?, bu bilgileri açıkla\",\n",
    "]\n",
    "\n",
    "for question in questions:\n",
    "    print(f\"Question: {question}\")\n",
    "    print(f\"Answer: {chain.invoke({'question': question})}\")\n",
    "    print()"
   ]
  }
 ],
 "metadata": {
  "kernelspec": {
   "display_name": ".venv",
   "language": "python",
   "name": "python3"
  },
  "language_info": {
   "codemirror_mode": {
    "name": "ipython",
    "version": 3
   },
   "file_extension": ".py",
   "mimetype": "text/x-python",
   "name": "python",
   "nbconvert_exporter": "python",
   "pygments_lexer": "ipython3",
   "version": "3.9.13"
  }
 },
 "nbformat": 4,
 "nbformat_minor": 2
}
